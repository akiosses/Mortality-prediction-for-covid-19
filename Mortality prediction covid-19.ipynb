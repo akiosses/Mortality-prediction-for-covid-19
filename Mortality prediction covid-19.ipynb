{
 "cells": [
  {
   "cell_type": "code",
   "execution_count": 15,
   "id": "68d8bff1",
   "metadata": {},
   "outputs": [],
   "source": [
    "import pandas as pd\n",
    "import numpy as np\n",
    "from sklearn.model_selection import train_test_split\n",
    "from sklearn.preprocessing import OneHotEncoder\n",
    "from sklearn.compose import make_column_transformer\n",
    "from sklearn.preprocessing import StandardScaler\n",
    "from sklearn.metrics import accuracy_score, precision_score, recall_score, f1_score\n",
    "from sklearn.ensemble import RandomForestClassifier\n",
    "from sklearn.model_selection import StratifiedKFold\n",
    "from imblearn.pipeline import Pipeline\n",
    "from imblearn.under_sampling import RandomUnderSampler\n",
    "from sklearn.metrics import confusion_matrix\n",
    "from sklearn.naive_bayes import GaussianNB\n",
    "from numpy import mean\n",
    "from sklearn.model_selection import cross_val_score\n",
    "from sklearn.linear_model import Perceptron\n",
    "\n",
    "from numpy import std\n",
    "from sklearn.impute import SimpleImputer\n",
    "from sklearn.compose import ColumnTransformer\n",
    "from sklearn.feature_selection import RFE\n",
    "from sklearn.metrics import classification_report\n",
    "import xgboost as xgb\n",
    "from sklearn.svm import SVC\n",
    "from sklearn.linear_model import LogisticRegression\n",
    "from sklearn.ensemble import AdaBoostClassifier\n",
    "from sklearn.tree import DecisionTreeClassifier\n",
    "from sklearn.neighbors import KNeighborsClassifier\n",
    "from sklearn.ensemble import VotingClassifier\n",
    "from imblearn.ensemble import BalancedBaggingClassifier\n",
    "from skopt import BayesSearchCV\n",
    "from imblearn.ensemble import BalancedRandomForestClassifier\n",
    "import matplotlib.pyplot as plt \n",
    "import seaborn as sns \n",
    "from scipy.stats import skew, kurtosis\n",
    "\n",
    "df = pd.read_csv('Deidentified_data(approved)_.csv')\n",
    "#numerical_ix = df.select_dtypes(include=['int64', 'float64']).columns\n"
   ]
  },
  {
   "cell_type": "code",
   "execution_count": 16,
   "id": "c6b5138b",
   "metadata": {},
   "outputs": [],
   "source": [
    "df['age']=df['age'].replace('89+', 91)\n",
    "df.age = df.age.astype(int) \n",
    "\n",
    "cleanup_nums = {\"race\":     {\"Other_Pacific_Islander\": 1, \"Native_American_Alaskan\": 2, \"Asian\":3 , \n",
    "                             \"Declined\":4, \"White\":5,  \"Black\":6, \"Other\":7},                         \n",
    "                \"gender\": {\"F\": 1, \"M\": 0}}\n",
    "\n",
    "df=df.replace(cleanup_nums)\n",
    "df=df.dropna(how='any',axis=0,thresh=df.shape[1]*0.7) \n",
    "df=df.dropna(how='any',axis=1,thresh=df.shape[0]*0.8)  \n",
    "\n",
    "y=df['death']\n",
    "X=df.drop(columns='death')"
   ]
  },
  {
   "cell_type": "code",
   "execution_count": 17,
   "id": "33aa9f0e",
   "metadata": {},
   "outputs": [
    {
     "data": {
      "text/html": [
       "<div>\n",
       "<style scoped>\n",
       "    .dataframe tbody tr th:only-of-type {\n",
       "        vertical-align: middle;\n",
       "    }\n",
       "\n",
       "    .dataframe tbody tr th {\n",
       "        vertical-align: top;\n",
       "    }\n",
       "\n",
       "    .dataframe thead th {\n",
       "        text-align: right;\n",
       "    }\n",
       "</style>\n",
       "<table border=\"1\" class=\"dataframe\">\n",
       "  <thead>\n",
       "    <tr style=\"text-align: right;\">\n",
       "      <th></th>\n",
       "      <th>age</th>\n",
       "      <th>diastolicBP</th>\n",
       "      <th>systolicBP</th>\n",
       "      <th>cr</th>\n",
       "      <th>NLratio</th>\n",
       "      <th>pulseOx</th>\n",
       "      <th>temperature</th>\n",
       "      <th>bun</th>\n",
       "      <th>troponin</th>\n",
       "      <th>ptt</th>\n",
       "      <th>bmi</th>\n",
       "      <th>creatine_kinase</th>\n",
       "      <th>potassium</th>\n",
       "    </tr>\n",
       "  </thead>\n",
       "  <tbody>\n",
       "    <tr>\n",
       "      <th>count</th>\n",
       "      <td>4060.000000</td>\n",
       "      <td>4060.000000</td>\n",
       "      <td>4060.000000</td>\n",
       "      <td>4014.000000</td>\n",
       "      <td>4060.000000</td>\n",
       "      <td>4059.000000</td>\n",
       "      <td>4058.000000</td>\n",
       "      <td>4014.000000</td>\n",
       "      <td>3549.000000</td>\n",
       "      <td>3252.000000</td>\n",
       "      <td>3834.000000</td>\n",
       "      <td>3299.000000</td>\n",
       "      <td>3984.000000</td>\n",
       "    </tr>\n",
       "    <tr>\n",
       "      <th>mean</th>\n",
       "      <td>64.386700</td>\n",
       "      <td>67.506897</td>\n",
       "      <td>120.091379</td>\n",
       "      <td>2.041148</td>\n",
       "      <td>7.967639</td>\n",
       "      <td>92.503326</td>\n",
       "      <td>99.217250</td>\n",
       "      <td>32.930487</td>\n",
       "      <td>0.058729</td>\n",
       "      <td>35.419404</td>\n",
       "      <td>30.448542</td>\n",
       "      <td>621.985748</td>\n",
       "      <td>4.427962</td>\n",
       "    </tr>\n",
       "    <tr>\n",
       "      <th>std</th>\n",
       "      <td>16.317759</td>\n",
       "      <td>16.718654</td>\n",
       "      <td>24.840636</td>\n",
       "      <td>2.585485</td>\n",
       "      <td>8.892819</td>\n",
       "      <td>8.478813</td>\n",
       "      <td>1.694207</td>\n",
       "      <td>32.782917</td>\n",
       "      <td>0.264979</td>\n",
       "      <td>14.719528</td>\n",
       "      <td>49.796762</td>\n",
       "      <td>2804.497742</td>\n",
       "      <td>0.741325</td>\n",
       "    </tr>\n",
       "    <tr>\n",
       "      <th>min</th>\n",
       "      <td>18.000000</td>\n",
       "      <td>0.000000</td>\n",
       "      <td>0.000000</td>\n",
       "      <td>0.199990</td>\n",
       "      <td>0.000000</td>\n",
       "      <td>11.000000</td>\n",
       "      <td>85.300000</td>\n",
       "      <td>4.999000</td>\n",
       "      <td>0.009990</td>\n",
       "      <td>19.000000</td>\n",
       "      <td>9.900000</td>\n",
       "      <td>19.999000</td>\n",
       "      <td>1.999900</td>\n",
       "    </tr>\n",
       "    <tr>\n",
       "      <th>25%</th>\n",
       "      <td>55.000000</td>\n",
       "      <td>59.000000</td>\n",
       "      <td>107.000000</td>\n",
       "      <td>0.810000</td>\n",
       "      <td>3.461538</td>\n",
       "      <td>90.000000</td>\n",
       "      <td>98.200000</td>\n",
       "      <td>13.000000</td>\n",
       "      <td>0.010000</td>\n",
       "      <td>29.600000</td>\n",
       "      <td>24.622500</td>\n",
       "      <td>86.000000</td>\n",
       "      <td>4.000000</td>\n",
       "    </tr>\n",
       "    <tr>\n",
       "      <th>50%</th>\n",
       "      <td>66.000000</td>\n",
       "      <td>69.000000</td>\n",
       "      <td>122.000000</td>\n",
       "      <td>1.130000</td>\n",
       "      <td>5.777778</td>\n",
       "      <td>95.000000</td>\n",
       "      <td>98.900000</td>\n",
       "      <td>20.500000</td>\n",
       "      <td>0.010000</td>\n",
       "      <td>32.800000</td>\n",
       "      <td>28.420000</td>\n",
       "      <td>168.000000</td>\n",
       "      <td>4.400000</td>\n",
       "    </tr>\n",
       "    <tr>\n",
       "      <th>75%</th>\n",
       "      <td>77.000000</td>\n",
       "      <td>79.000000</td>\n",
       "      <td>136.000000</td>\n",
       "      <td>1.960000</td>\n",
       "      <td>9.603846</td>\n",
       "      <td>98.000000</td>\n",
       "      <td>100.000000</td>\n",
       "      <td>40.000000</td>\n",
       "      <td>0.030000</td>\n",
       "      <td>37.000000</td>\n",
       "      <td>33.190000</td>\n",
       "      <td>416.000000</td>\n",
       "      <td>4.800000</td>\n",
       "    </tr>\n",
       "    <tr>\n",
       "      <th>max</th>\n",
       "      <td>91.000000</td>\n",
       "      <td>120.000000</td>\n",
       "      <td>215.000000</td>\n",
       "      <td>31.660000</td>\n",
       "      <td>208.500000</td>\n",
       "      <td>100.000000</td>\n",
       "      <td>122.000000</td>\n",
       "      <td>301.000000</td>\n",
       "      <td>9.560000</td>\n",
       "      <td>200.000100</td>\n",
       "      <td>3069.260000</td>\n",
       "      <td>80000.001000</td>\n",
       "      <td>9.000100</td>\n",
       "    </tr>\n",
       "  </tbody>\n",
       "</table>\n",
       "</div>"
      ],
      "text/plain": [
       "               age  diastolicBP   systolicBP           cr      NLratio  \\\n",
       "count  4060.000000  4060.000000  4060.000000  4014.000000  4060.000000   \n",
       "mean     64.386700    67.506897   120.091379     2.041148     7.967639   \n",
       "std      16.317759    16.718654    24.840636     2.585485     8.892819   \n",
       "min      18.000000     0.000000     0.000000     0.199990     0.000000   \n",
       "25%      55.000000    59.000000   107.000000     0.810000     3.461538   \n",
       "50%      66.000000    69.000000   122.000000     1.130000     5.777778   \n",
       "75%      77.000000    79.000000   136.000000     1.960000     9.603846   \n",
       "max      91.000000   120.000000   215.000000    31.660000   208.500000   \n",
       "\n",
       "           pulseOx  temperature          bun     troponin          ptt  \\\n",
       "count  4059.000000  4058.000000  4014.000000  3549.000000  3252.000000   \n",
       "mean     92.503326    99.217250    32.930487     0.058729    35.419404   \n",
       "std       8.478813     1.694207    32.782917     0.264979    14.719528   \n",
       "min      11.000000    85.300000     4.999000     0.009990    19.000000   \n",
       "25%      90.000000    98.200000    13.000000     0.010000    29.600000   \n",
       "50%      95.000000    98.900000    20.500000     0.010000    32.800000   \n",
       "75%      98.000000   100.000000    40.000000     0.030000    37.000000   \n",
       "max     100.000000   122.000000   301.000000     9.560000   200.000100   \n",
       "\n",
       "               bmi  creatine_kinase    potassium  \n",
       "count  3834.000000      3299.000000  3984.000000  \n",
       "mean     30.448542       621.985748     4.427962  \n",
       "std      49.796762      2804.497742     0.741325  \n",
       "min       9.900000        19.999000     1.999900  \n",
       "25%      24.622500        86.000000     4.000000  \n",
       "50%      28.420000       168.000000     4.400000  \n",
       "75%      33.190000       416.000000     4.800000  \n",
       "max    3069.260000     80000.001000     9.000100  "
      ]
     },
     "execution_count": 17,
     "metadata": {},
     "output_type": "execute_result"
    }
   ],
   "source": [
    "cols=[\"age\",\"diastolicBP\",\"systolicBP\",\"cr\",\"NLratio\",\"pulseOx\",\"temperature\",\"bun\",\"troponin\",\"ptt\",\"bmi\",\"creatine_kinase\" , \"potassium\"]\n",
    "X[cols].describe()"
   ]
  },
  {
   "cell_type": "code",
   "execution_count": 105,
   "id": "4edf10d9",
   "metadata": {
    "collapsed": true
   },
   "outputs": [
    {
     "name": "stdout",
     "output_type": "stream",
     "text": [
      "Skew: age -0.530\n",
      "Skew: diastolicBP -0.702\n",
      "Skew: systolicBP -0.869\n",
      "Skew: cr nan\n",
      "Skew: NLratio 7.486\n",
      "Skew: pulseOx nan\n",
      "Skew: temperature nan\n",
      "Skew: bun nan\n",
      "Skew: troponin nan\n",
      "Skew: ptt nan\n",
      "Skew: bmi nan\n",
      "Skew: creatine_kinase nan\n",
      "Skew: potassium nan\n"
     ]
    }
   ],
   "source": [
    "for col in df[cols]:\n",
    "    print(\"Skew: %s %.3f\" % (col,skew(df[col])))"
   ]
  },
  {
   "cell_type": "code",
   "execution_count": 106,
   "id": "69856205",
   "metadata": {
    "collapsed": true
   },
   "outputs": [
    {
     "name": "stdout",
     "output_type": "stream",
     "text": [
      "kurtosis: age -0.220\n",
      "kurtosis: diastolicBP 1.148\n",
      "kurtosis: systolicBP 2.385\n",
      "kurtosis: cr nan\n",
      "kurtosis: NLratio 107.884\n",
      "kurtosis: pulseOx nan\n",
      "kurtosis: temperature nan\n",
      "kurtosis: bun nan\n",
      "kurtosis: troponin nan\n",
      "kurtosis: ptt nan\n",
      "kurtosis: bmi nan\n",
      "kurtosis: creatine_kinase nan\n",
      "kurtosis: potassium nan\n"
     ]
    }
   ],
   "source": [
    "for col in  df[cols]:\n",
    "    print(\"kurtosis: %s %.3f\" % (col,kurtosis(df[col])))"
   ]
  },
  {
   "cell_type": "code",
   "execution_count": 6,
   "id": "3ba6363f",
   "metadata": {},
   "outputs": [],
   "source": [
    "cols=['age',  'ventilator', 'diastolicBP', 'systolicBP', 'cr',\n",
    "       'NLratio', 'pulseOx', 'temperature', 'bun', 'troponin', 'ptt', 'bmi',\n",
    "       'creatine_kinase', 'potassium']\n",
    "\n",
    "myheart = df['death']\n",
    "myage = df['age']\n",
    "heart_0 = myheart == 0\n",
    "heart_1 = myheart == 1"
   ]
  },
  {
   "cell_type": "code",
   "execution_count": 91,
   "id": "6889d713",
   "metadata": {
    "collapsed": true
   },
   "outputs": [
    {
     "data": {
      "text/plain": [
       "<AxesSubplot:xlabel='death', ylabel='count'>"
      ]
     },
     "execution_count": 91,
     "metadata": {},
     "output_type": "execute_result"
    },
    {
     "data": {
      "image/png": "[encoded data removed]",
      "text/plain": [
       "<Figure size 432x288 with 1 Axes>"
      ]
     },
     "metadata": {
      "needs_background": "light"
     },
     "output_type": "display_data"
    }
   ],
   "source": [
    "sns.countplot(x='death',data=df)"
   ]
  },
  {
   "cell_type": "code",
   "execution_count": 95,
   "id": "b3aa5931",
   "metadata": {
    "collapsed": true
   },
   "outputs": [
    {
     "data": {
      "image/png": "[encoded data removed]",
      "text/plain": [
       "<Figure size 432x288 with 1 Axes>"
      ]
     },
     "metadata": {
      "needs_background": "light"
     },
     "output_type": "display_data"
    }
   ],
   "source": [
    "a=sns.countplot(x='ventilator',hue='death',data=df)"
   ]
  },
  {
   "cell_type": "code",
   "execution_count": 56,
   "id": "27c826b9",
   "metadata": {
    "collapsed": true
   },
   "outputs": [
    {
     "data": {
      "image/png": "[encoded data removed]",
      "text/plain": [
       "<Figure size 432x288 with 1 Axes>"
      ]
     },
     "metadata": {
      "needs_background": "light"
     },
     "output_type": "display_data"
    }
   ],
   "source": [
    "plt.hist(myage[heart_0], edgecolor='blue', alpha=0.5, bins =range(15,95,5), label='0')\n",
    "plt.hist(myage[heart_1], edgecolor='blue', alpha=0.5, bins = range(15,95,5) , label='1')\n",
    "\n",
    "\n",
    "plt.xlabel('age')\n",
    "plt.ylabel('Frequency')\n",
    "plt.show()"
   ]
  },
  {
   "cell_type": "code",
   "execution_count": 57,
   "id": "c98cbb5b",
   "metadata": {
    "collapsed": true
   },
   "outputs": [
    {
     "data": {
      "image/png": "[encoded data removed]",
      "text/plain": [
       "<Figure size 432x288 with 1 Axes>"
      ]
     },
     "metadata": {
      "needs_background": "light"
     },
     "output_type": "display_data"
    }
   ],
   "source": [
    "myheart = df['death']\n",
    "mydiastolicBP = df['diastolicBP']\n",
    "\n",
    "plt.hist(mydiastolicBP[heart_0], edgecolor='blue', alpha=0.5, bins = range(0,120,8), label='0')\n",
    "plt.hist(mydiastolicBP[heart_1], edgecolor='blue', alpha=0.5, bins = range(0,120,8), label='1')\n",
    "plt.legend(loc='upper right')\n",
    "plt.xlabel('diastolicBP')\n",
    "plt.ylabel('Frequency')\n",
    "plt.show()"
   ]
  },
  {
   "cell_type": "code",
   "execution_count": 58,
   "id": "eac0d751",
   "metadata": {
    "collapsed": true
   },
   "outputs": [
    {
     "data": {
      "image/png": "[encoded data removed]",
      "text/plain": [
       "<Figure size 432x288 with 1 Axes>"
      ]
     },
     "metadata": {
      "needs_background": "light"
     },
     "output_type": "display_data"
    }
   ],
   "source": [
    "myheart = df['death']\n",
    "mysystolicBP = df['systolicBP']\n",
    "\n",
    "plt.hist(mysystolicBP[heart_0], edgecolor='blue', alpha=0.5, bins = range(0,215,14), label='0')\n",
    "plt.hist(mysystolicBP[heart_1], edgecolor='blue', alpha=0.5, bins = range(0,215,14), label='1')\n",
    "plt.legend(loc='upper right')\n",
    "plt.xlabel('systolicBP')\n",
    "plt.ylabel('Frequency')\n",
    "plt.show()"
   ]
  },
  {
   "cell_type": "code",
   "execution_count": 59,
   "id": "10aa09e3",
   "metadata": {
    "collapsed": true
   },
   "outputs": [
    {
     "data": {
      "image/png": "[encoded data removed]",
      "text/plain": [
       "<Figure size 432x288 with 1 Axes>"
      ]
     },
     "metadata": {
      "needs_background": "light"
     },
     "output_type": "display_data"
    }
   ],
   "source": [
    "myheart = df['death']\n",
    "mycr = df['cr']\n",
    "\n",
    "plt.hist(mycr[heart_0], edgecolor='blue', alpha=0.5, bins =  range(0,32,2), label='0')\n",
    "plt.hist(mycr[heart_1], edgecolor='blue', alpha=0.5, bins =  range(0,32,2), label='1')\n",
    "plt.legend(loc='upper right')\n",
    "plt.xlabel('cr')\n",
    "plt.ylabel('Frequency')\n",
    "plt.show()"
   ]
  },
  {
   "cell_type": "code",
   "execution_count": 66,
   "id": "a015d7f9",
   "metadata": {
    "collapsed": true
   },
   "outputs": [
    {
     "data": {
      "image/png": "[encoded data removed]",
      "text/plain": [
       "<Figure size 432x288 with 1 Axes>"
      ]
     },
     "metadata": {
      "needs_background": "light"
     },
     "output_type": "display_data"
    }
   ],
   "source": [
    "myheart = df['death']\n",
    "myNLratio = df['NLratio']\n",
    "\n",
    "plt.hist(myNLratio[heart_0], edgecolor='blue', alpha=0.5, bins = range(0,30,2), label='0')\n",
    "plt.hist(myNLratio[heart_1], edgecolor='blue', alpha=0.5, bins =  range(0,30,2), label='1')\n",
    "plt.legend(loc='upper right')\n",
    "plt.xlabel('NLratio')\n",
    "plt.ylabel('Frequency')\n",
    "plt.show()"
   ]
  },
  {
   "cell_type": "code",
   "execution_count": 67,
   "id": "fd5f8636",
   "metadata": {
    "collapsed": true
   },
   "outputs": [
    {
     "data": {
      "image/png": "[encoded data removed]",
      "text/plain": [
       "<Figure size 432x288 with 1 Axes>"
      ]
     },
     "metadata": {
      "needs_background": "light"
     },
     "output_type": "display_data"
    }
   ],
   "source": [
    "myheart = df['death']\n",
    "mypulseOx = df['pulseOx']\n",
    "\n",
    "plt.hist(mypulseOx[heart_0], edgecolor='blue', alpha=0.5, bins = range(10,95,6), label='0')\n",
    "plt.hist(mypulseOx[heart_1], edgecolor='blue', alpha=0.5, bins =  range(10,95,6), label='1')\n",
    "plt.legend(loc='upper right')\n",
    "plt.xlabel('pulseOx')\n",
    "plt.ylabel('Frequency')\n",
    "plt.show()"
   ]
  },
  {
   "cell_type": "code",
   "execution_count": 70,
   "id": "06b8e09e",
   "metadata": {
    "collapsed": true
   },
   "outputs": [
    {
     "data": {
      "image/png": "[encoded data removed]",
      "text/plain": [
       "<Figure size 432x288 with 1 Axes>"
      ]
     },
     "metadata": {
      "needs_background": "light"
     },
     "output_type": "display_data"
    }
   ],
   "source": [
    "myheart = df['death']\n",
    "mytemperature = df['temperature']\n",
    "\n",
    "plt.hist(mytemperature[heart_0], edgecolor='blue', alpha=0.5, bins = range(85,125,2), label='0')\n",
    "plt.hist(mytemperature[heart_1], edgecolor='blue', alpha=0.5, bins =  range(85,125,2), label='1')\n",
    "plt.legend(loc='upper right')\n",
    "plt.xlabel('temperature')\n",
    "plt.ylabel('Frequency')\n",
    "plt.show()"
   ]
  },
  {
   "cell_type": "code",
   "execution_count": 71,
   "id": "e0760aa8",
   "metadata": {
    "collapsed": true
   },
   "outputs": [
    {
     "data": {
      "image/png": "[encoded data removed]",
      "text/plain": [
       "<Figure size 432x288 with 1 Axes>"
      ]
     },
     "metadata": {
      "needs_background": "light"
     },
     "output_type": "display_data"
    }
   ],
   "source": [
    "myheart = df['death']\n",
    "mybun = df['bun']\n",
    "\n",
    "plt.hist(mybun[heart_0], edgecolor='blue', alpha=0.5, bins =  range(5,305,20), label='0')\n",
    "plt.hist(mybun[heart_1], edgecolor='blue', alpha=0.5, bins =  range(5,305,20), label='1')\n",
    "plt.legend(loc='upper right')\n",
    "plt.xlabel('bun')\n",
    "plt.ylabel('Frequency')\n",
    "plt.show()"
   ]
  },
  {
   "cell_type": "code",
   "execution_count": null,
   "id": "6a9b74b6",
   "metadata": {},
   "outputs": [],
   "source": [
    "cols=['age',  'ventilator', 'diastolicBP', 'systolicBP', 'cr',\n",
    "       'NLratio', 'pulseOx', 'temperature', 'bun', 'troponin', 'ptt', 'bmi',\n",
    "       'creatine_kinase', 'potassium']\n",
    "\n",
    "myheart = df['death']\n",
    "myage = df['age']"
   ]
  },
  {
   "cell_type": "code",
   "execution_count": 90,
   "id": "374c5924",
   "metadata": {
    "collapsed": true
   },
   "outputs": [
    {
     "data": {
      "image/png": "[encoded data removed]",
      "text/plain": [
       "<Figure size 432x288 with 1 Axes>"
      ]
     },
     "metadata": {
      "needs_background": "light"
     },
     "output_type": "display_data"
    }
   ],
   "source": [
    "myheart = df['death']\n",
    "mytroponin = df['troponin']\n",
    "\n",
    "plt.hist(mytroponin[heart_0], edgecolor='blue', alpha=0.5, bins = [0,0.015,0.03,0.045,0.06,0.075,0.09,0.105,0.12,0.135,0.15,0.165,0.17,0.185,0.2], label='0')\n",
    "plt.hist(mytroponin[heart_1], edgecolor='blue', alpha=0.5, bins =[0,0.015,0.03,0.045,0.06,0.075,0.09,0.105,0.12,0.135,0.15,0.165,0.17,0.185,0.2], label='1')\n",
    "plt.legend(loc='upper right')\n",
    "plt.xlabel('troponin')\n",
    "plt.ylabel('Frequency')\n",
    "plt.show()"
   ]
  },
  {
   "cell_type": "code",
   "execution_count": 75,
   "id": "a548131a",
   "metadata": {
    "collapsed": true
   },
   "outputs": [
    {
     "data": {
      "image/png": "[encoded data removed]",
      "text/plain": [
       "<Figure size 432x288 with 1 Axes>"
      ]
     },
     "metadata": {
      "needs_background": "light"
     },
     "output_type": "display_data"
    }
   ],
   "source": [
    "myheart = df['death']\n",
    "myptt = df['ptt']\n",
    "\n",
    "plt.hist(myptt[heart_0], edgecolor='blue', alpha=0.5, bins = range(19,200,15), label='0')\n",
    "plt.hist(myptt[heart_1], edgecolor='blue', alpha=0.5, bins = range(19,200,15), label='1')\n",
    "plt.legend(loc='upper right')\n",
    "plt.xlabel('ptt')\n",
    "plt.ylabel('Frequency')\n",
    "plt.show()"
   ]
  },
  {
   "cell_type": "code",
   "execution_count": 81,
   "id": "5774c069",
   "metadata": {
    "collapsed": true
   },
   "outputs": [
    {
     "data": {
      "image/png": "[encoded data removed]",
      "text/plain": [
       "<Figure size 432x288 with 1 Axes>"
      ]
     },
     "metadata": {
      "needs_background": "light"
     },
     "output_type": "display_data"
    }
   ],
   "source": [
    "myheart = df['death']\n",
    "mybmi = df['bmi']\n",
    "plt.hist(mybmi[heart_0], edgecolor='blue', alpha=0.5, bins =range(9,55,3) , label='0')\n",
    "plt.hist(mybmi[heart_1], edgecolor='blue', alpha=0.5, bins =range(9,55,3) ,label='1')\n",
    "\n",
    "#plt.hist(mybmi[heart_0], edgecolor='blue', alpha=0.5, bins = [10,15,20,25,30,35,40,45,50,55,60,65,70,75], label='0')\n",
    "#plt.hist(mybmi[heart_1], edgecolor='blue', alpha=0.5, bins =  [10,15,20,25,30,35,40,45,50,55,60,65,70,75], label='1')\n",
    "plt.legend(loc='upper right')\n",
    "plt.xlabel('bmi')\n",
    "plt.ylabel('Frequency')\n",
    "plt.show()"
   ]
  },
  {
   "cell_type": "code",
   "execution_count": 87,
   "id": "87de7b9e",
   "metadata": {
    "collapsed": true
   },
   "outputs": [
    {
     "data": {
      "image/png": "[encoded data removed]",
      "text/plain": [
       "<Figure size 432x288 with 1 Axes>"
      ]
     },
     "metadata": {
      "needs_background": "light"
     },
     "output_type": "display_data"
    }
   ],
   "source": [
    "myheart = df['death']\n",
    "mycreatine_kinase = df['creatine_kinase']\n",
    "\n",
    "plt.hist(mycreatine_kinase[heart_0], edgecolor='blue', alpha=0.5, bins = range(19,1000,65), label='0')\n",
    "plt.hist(mycreatine_kinase[heart_1], edgecolor='blue', alpha=0.5, bins =  range(19,1000,65), label='1')\n",
    "plt.legend(loc='upper right')\n",
    "plt.xlabel('creatine_kinase')\n",
    "plt.ylabel('Frequency')\n",
    "plt.show()"
   ]
  },
  {
   "cell_type": "code",
   "execution_count": 88,
   "id": "1b4c95b5",
   "metadata": {
    "collapsed": true
   },
   "outputs": [
    {
     "data": {
      "image/png": "[encoded data removed]",
      "text/plain": [
       "<Figure size 432x288 with 1 Axes>"
      ]
     },
     "metadata": {
      "needs_background": "light"
     },
     "output_type": "display_data"
    }
   ],
   "source": [
    "myheart = df['death']\n",
    "mypotassium = df['potassium']\n",
    "\n",
    "plt.hist(mypotassium[heart_0], edgecolor='blue', alpha=0.5, bins = [2,2.5,3,3.5,4,4.5,5,5.5,6,6.5,7,7.5,8,8.5,9], label='0')\n",
    "plt.hist(mypotassium[heart_1], edgecolor='blue', alpha=0.5, bins =  [2,2.5,3,3.5,4,4.5,5,5.5,6,6.5,7,7.5,8,8.5,9], label='1')\n",
    "plt.legend(loc='upper right')\n",
    "plt.xlabel('potassium')\n",
    "plt.ylabel('Frequency')\n",
    "plt.show()"
   ]
  },
  {
   "cell_type": "code",
   "execution_count": 18,
   "id": "749d99ca",
   "metadata": {},
   "outputs": [],
   "source": [
    "X_train, X_test, y_train, y_test = train_test_split( X, y, test_size=0.2,stratify=y, random_state=42)"
   ]
  },
  {
   "cell_type": "code",
   "execution_count": 19,
   "id": "8e0033d0",
   "metadata": {},
   "outputs": [],
   "source": [
    "numerical_ix= ['ventilator', 'albumin', 'diastolicBP', 'systolicBP',\n",
    "       'cr', 'egfr', 'eosinophil', 'hgb', 'inr', 'lymphocyte', 'neutrophil',\n",
    "       'NLratio', 'platelet', 'protein', 'pulse', 'pulseOx', 'rr',\n",
    "       'temperature', 'wbc', 'alt', 'ast', 'bun', 'calcium', 'chloride', 'crp',\n",
    "       'interleukin6', 'mcv', 'monocyte', 'mpv', 'rdw', 'troponin', 'ptt',\n",
    "       'bmi', 'glucose', 'direct_bili', 'total_bili', 'indirect_bili',\n",
    "       'creatine_kinase', 'potassium', 'charlson_score']\n",
    "\n",
    "categorical_features=['race']"
   ]
  },
  {
   "cell_type": "code",
   "execution_count": 5,
   "id": "b66fc2ca",
   "metadata": {},
   "outputs": [
    {
     "name": "stdout",
     "output_type": "stream",
     "text": [
      ">Random forest 0.722 (0.029)\n",
      ">DecisionTree 0.701 (0.023)\n",
      ">xgboost 0.726 (0.034)\n",
      ">svm 0.638 (0.025)\n",
      ">Adaboost 0.712 (0.038)\n",
      ">Voting 0.623 (0.053)\n"
     ]
    }
   ],
   "source": [
    "numeric_transformer = Pipeline ( steps = [(\"imputer\", SimpleImputer(strategy=\"median\")),('scale',StandardScaler())])\n",
    "preprocessor_1 = ColumnTransformer(transformers =[('numeric_transformer',numeric_transformer, numerical_ix),\n",
    "    ('encode', OneHotEncoder(),categorical_features)],remainder='passthrough')\n",
    "\n",
    "preprocessor_2 = ColumnTransformer(transformers =[(\"imputer\", SimpleImputer(strategy=\"median\"), numerical_ix)],remainder='passthrough')\n",
    "under = RandomUnderSampler(sampling_strategy=0.5,random_state=40)\n",
    "def get_models():\n",
    "    models = dict()\n",
    "                                    \n",
    "    model = RandomForestClassifier()\n",
    "    models['Random forest'] = Pipeline(steps=[('preprocessor_2',preprocessor_2),('under', under),('m',model)])\n",
    "\n",
    "    model = LogisticRegression()\n",
    "    models['DecisionTree'] = Pipeline(steps=[('preprocessor_1',preprocessor_1),('under', under),('m',model)])\n",
    "\n",
    "    model= xgb.XGBClassifier()\n",
    "    models['xgboost'] = Pipeline(steps=[('preprocessor_2',preprocessor_2),('under', under),('m',model)])\n",
    "\n",
    "    model = SVC()\n",
    "    models['svm'] = Pipeline(steps=[('preprocessor_1',preprocessor_1),('under', under),('m',model)])\n",
    "    \n",
    "    model = AdaBoostClassifier(random_state=42)\n",
    "    models['Adaboost'] = Pipeline(steps=[('preprocessor_2',preprocessor_1),('under', under),('m',model)])\n",
    "\n",
    "    lr= LogisticRegression()\n",
    "    gnb=GaussianNB()\n",
    "    kn=KNeighborsClassifier(n_neighbors=1)\n",
    "    base_methods=[('pipe_lr', lr),('pipe_gnb', gnb),('pipe_Kn',kn)]\n",
    "    vote_model=VotingClassifier(estimators=base_methods,voting='hard')\n",
    "   \n",
    "    models['Voting'] = Pipeline(steps=[('preprocessor_2',preprocessor_1),('under', under),('m',vote_model)])\n",
    "\n",
    "    return models\n",
    " \n",
    "def evaluate_model(model, X, y):\n",
    "    cv = StratifiedKFold(n_splits=5,shuffle=True)\n",
    "    scores = cross_val_score(model, X, y, scoring='f1', cv=cv, n_jobs=-1)\n",
    "    return scores\n",
    " \n",
    "models = get_models()\n",
    "results, names = list(), list()\n",
    "for name, model in models.items():\n",
    "    scores = evaluate_model(model, X_train, y_train)\n",
    "    results.append(scores)\n",
    "    names.append(name)\n",
    "    print('>%s %.3f (%.3f)' % (name, mean(scores), std(scores)))"
   ]
  },
  {
   "cell_type": "code",
   "execution_count": 12,
   "id": "57923167",
   "metadata": {
    "collapsed": true
   },
   "outputs": [
    {
     "name": "stdout",
     "output_type": "stream",
     "text": [
      ">5 0.662 (0.051)\n",
      ">6 0.668 (0.018)\n",
      ">7 0.683 (0.006)\n",
      ">8 0.690 (0.027)\n",
      ">9 0.699 (0.042)\n",
      ">10 0.693 (0.039)\n",
      ">11 0.704 (0.028)\n",
      ">12 0.702 (0.046)\n",
      ">13 0.723 (0.021)\n",
      ">14 0.720 (0.021)\n",
      ">15 0.699 (0.043)\n",
      ">16 0.722 (0.029)\n",
      ">17 0.712 (0.030)\n",
      ">18 0.696 (0.030)\n",
      ">19 0.706 (0.029)\n",
      ">20 0.717 (0.047)\n",
      ">21 0.712 (0.037)\n",
      ">22 0.714 (0.051)\n",
      ">23 0.707 (0.043)\n",
      ">24 0.702 (0.024)\n",
      ">25 0.719 (0.036)\n",
      ">26 0.713 (0.050)\n",
      ">27 0.710 (0.045)\n",
      ">28 0.709 (0.045)\n",
      ">29 0.710 (0.045)\n"
     ]
    }
   ],
   "source": [
    "def get_models():\n",
    "    models = dict()\n",
    "    for i in range(5,30):\n",
    "        rfe = RFE(estimator=DecisionTreeClassifier(), n_features_to_select=i)\n",
    "        model = xgb.XGBClassifier()\n",
    "        models[str(i)] = Pipeline(steps=[(\"preprocessor_2\", preprocessor_2),('s',rfe),('under', under),('m',model)])\n",
    "    return models\n",
    "\n",
    "def evaluate_model(model, X, y):\n",
    "    cv = StratifiedKFold(n_splits=5,shuffle=True,random_state=42)\n",
    "    scores = cross_val_score(model, X, y, scoring='recall', cv=cv, n_jobs=-1, error_score='raise')\n",
    "    return scores\n",
    "\n",
    "models = get_models()\n",
    "results, names = list(), list()\n",
    "for name, model in models.items():\n",
    "    scores = evaluate_model(model, X_train, y_train)\n",
    "    results.append(scores)\n",
    "    names.append(name)\n",
    "    print('>%s %.3f (%.3f)' % (name, mean(scores), std(scores)))"
   ]
  },
  {
   "cell_type": "code",
   "execution_count": 15,
   "id": "ce01a95d",
   "metadata": {},
   "outputs": [
    {
     "name": "stdout",
     "output_type": "stream",
     "text": [
      ">lr 0.668 (0.024)\n",
      ">per 0.661 (0.029)\n",
      ">dtc 0.711 (0.023)\n",
      ">rf 0.712 (0.029)\n"
     ]
    }
   ],
   "source": [
    "model = xgb.XGBClassifier()\n",
    "\n",
    "def get_models():\n",
    "    models = dict()\n",
    "    rfe = RFE(estimator=LogisticRegression(max_iter=400), n_features_to_select=13)\n",
    "    models['lr'] = Pipeline(steps=[('preprocessor_1',preprocessor_1),('rfe',rfe),('under', under),('m',model)])\n",
    "  \n",
    "    rfe = RFE(estimator=Perceptron(), n_features_to_select=13)   \n",
    "    models['per'] = Pipeline(steps=[('preprocessor_1',preprocessor_1),('rfe',rfe),('under', under),('m',model)])\n",
    "    \n",
    "    rfe = RFE(estimator=DecisionTreeClassifier(), n_features_to_select=13)\n",
    "    models['dtc'] = Pipeline(steps=[('preprocessor_2',preprocessor_2),('rfe',rfe),('under', under),('m',model)])\n",
    "    \n",
    "    rfe = RFE(estimator=RandomForestClassifier(), n_features_to_select=13)\n",
    "    models['rf'] = Pipeline(steps=[('preprocessor_2',preprocessor_2),('rfe',rfe),('under', under),('m',model)])\n",
    "    return models\n",
    " \n",
    "def evaluate_model(model, X, y):\n",
    "    cv = StratifiedKFold(n_splits=5,shuffle=True)\n",
    "    scores = cross_val_score(model, X, y, scoring='f1', cv=cv, n_jobs=-1)\n",
    "    return scores\n",
    " \n",
    "models = get_models()\n",
    "results, names = list(), list()\n",
    "for name, model in models.items():\n",
    "    scores = evaluate_model(model, X_train, y_train)\n",
    "    results.append(scores)\n",
    "    names.append(name)\n",
    "    print('>%s %.3f (%.3f)' % (name, mean(scores), std(scores)))"
   ]
  },
  {
   "cell_type": "code",
   "execution_count": 7,
   "id": "aca0bc00",
   "metadata": {},
   "outputs": [
    {
     "name": "stdout",
     "output_type": "stream",
     "text": [
      "OrderedDict([('model__bootstrap', True), ('model__max_depth', 12), ('model__max_features', 'auto'), ('model__min_samples_leaf', 1), ('model__min_samples_split', 2), ('model__n_estimators', 150), ('under__sampling_strategy', 0.728126631947327)])\n",
      "0.7395731155916903\n"
     ]
    }
   ],
   "source": [
    "n_estimators=[150,200,250,300,450]\n",
    "max_features = ['auto', 'sqrt']\n",
    "max_depth=[8,9,10,11,12]\n",
    "min_samples_split = [2,5, 10]\n",
    "min_samples_leaf = [1, 2,3, 4]\n",
    "bootstrap = [True, False]\n",
    "random_grid = {'rfe__estimator__max_depth':[2,4,6,8,10,12,None],'rfe__n_features_to_select':[10,11,12,13,14,15],\n",
    "    'under__sampling_strategy':[0.5,0.8],'model__n_estimators': n_estimators, 'model__max_features': max_features, \n",
    " 'model__max_depth': max_depth, 'model__min_samples_split': min_samples_split,\n",
    "    'model__min_samples_leaf': min_samples_leaf, 'model__bootstrap': bootstrap}\n",
    "\n",
    "rfe = RFE(estimator=DecisionTreeClassifier())\n",
    "under = RandomUnderSampler(random_state=40)\n",
    "preprocessor_2=ColumnTransformer(transformers=[(\"imputer\",SimpleImputer(strategy=\"median\"),numerical_ix)],remainder='passthrough')\n",
    "\n",
    "model = RandomForestClassifier(random_state=42)\n",
    "\n",
    "model_pipeline = Pipeline(steps =[(\"preprocessor_2\", preprocessor_2),#('rfe',rfe),\n",
    "                                  ('under', under),('model', model)])\n",
    "\n",
    "cv = StratifiedKFold(n_splits=5,shuffle=True,random_state=42)\n",
    "\n",
    "opt = BayesSearchCV( model_pipeline,[(random_grid, 60)],cv=cv,scoring='f1')\n",
    "opt.fit(X_train, y_train)\n",
    "\n",
    "print(opt.best_params_)\n",
    "print(opt.best_score_)"
   ]
  },
  {
   "cell_type": "code",
   "execution_count": 8,
   "id": "fe545edd",
   "metadata": {},
   "outputs": [
    {
     "name": "stdout",
     "output_type": "stream",
     "text": [
      "[03:23:08] WARNING: ..\\src\\learner.cc:576: \n",
      "Parameters: { \"silent\" } might not be used.\n",
      "\n",
      "  This could be a false alarm, with some parameters getting used by language bindings but\n",
      "  then being mistakenly passed down to XGBoost core, or some parameter actually being used\n",
      "  but getting flagged wrongly here. Please open an issue if you find any such cases.\n",
      "\n",
      "\n",
      "OrderedDict([('model__colsample_bylevel', 1.0), ('model__colsample_bytree', 0.7), ('model__gamma', 0.0), ('model__learning_rate', 0.05), ('model__max_depth', 6), ('model__min_child_weight', 1), ('model__n_estimators', 300), ('model__subsample', 1.0), ('under__sampling_strategy', 0.5)])\n",
      "0.7405073108770674\n"
     ]
    }
   ],
   "source": [
    "model= xgb.XGBClassifier(use_label_encoder=False,n_jobs = 1,objective = 'binary:logistic',eval_metric = 'auc',silent=1, tree_method='approx')\n",
    "\n",
    "under = RandomUnderSampler(random_state=40)\n",
    "rfe = RFE(estimator=DecisionTreeClassifier())\n",
    "\n",
    "preprocessor_2=ColumnTransformer(transformers=[(\"imputer\",SimpleImputer(strategy=\"median\"),numerical_ix)],remainder='passthrough')\n",
    "\n",
    "random_grid = {'rfe__estimator__max_depth':[2,4,6,8,10,12,None],'rfe__n_features_to_select':[10,11,12,13,14,15],\n",
    "'under__sampling_strategy':[0.5,0.8],\"model__learning_rate\":[0.05,0.10,0.15,0.20,0.25,0.30],\n",
    "\"model__max_depth\":[3,4,5,6,8,10,12,15], \"model__min_child_weight\":[1,3,5,7],\"model__gamma\":[0.0,0.1,0.2,0.3,0.4],\n",
    "\"model__colsample_bytree\":[0.3,0.4,0.5,0.7],'model__subsample': (0.01, 1.0, 'uniform'), \n",
    "'model__colsample_bytree': [0.3,0.4,0.5,0.7],'model__colsample_bylevel': (0.01, 1.0, 'uniform'), 'model__n_estimators': (50, 100,200,300)}\n",
    "\n",
    "#model_pipeline = Pipeline(steps =[(\"preprocessor_2\", preprocessor_2), ('rfe',rfe),('under', under),('model',model)])\n",
    "model_pipeline = Pipeline(steps =[(\"preprocessor_2\", preprocessor_2), ('under', under),('model',model)])\n",
    "\n",
    "cv = StratifiedKFold(n_splits=5,shuffle=True)\n",
    "\n",
    "opt = BayesSearchCV( model_pipeline,[(random_grid, 100)],cv=cv,scoring='f1',n_jobs = 3,verbose = 0,refit = True,random_state = 42)\n",
    "\n",
    "opt.fit(X_train, y_train)\n",
    "\n",
    "print(opt.best_params_)\n",
    "print(opt.best_score_)"
   ]
  },
  {
   "cell_type": "code",
   "execution_count": 22,
   "id": "ea6b4f97",
   "metadata": {},
   "outputs": [
    {
     "name": "stdout",
     "output_type": "stream",
     "text": [
      "[02:02:29] WARNING: ..\\src\\learner.cc:576: \n",
      "Parameters: { \"silent\" } might not be used.\n",
      "\n",
      "  This could be a false alarm, with some parameters getting used by language bindings but\n",
      "  then being mistakenly passed down to XGBoost core, or some parameter actually being used\n",
      "  but getting flagged wrongly here. Please open an issue if you find any such cases.\n",
      "\n",
      "\n",
      "[[2153  249]\n",
      " [ 163  683]]\n",
      " F1 on training set 0.7682789651293589\n",
      "[[526  75]\n",
      " [ 47 164]]\n",
      " F1 on test set 0.7288888888888889\n",
      "              precision    recall  f1-score   support\n",
      "\n",
      "           0       0.92      0.88      0.90       601\n",
      "           1       0.69      0.78      0.73       211\n",
      "\n",
      "    accuracy                           0.85       812\n",
      "   macro avg       0.80      0.83      0.81       812\n",
      "weighted avg       0.86      0.85      0.85       812\n",
      "\n"
     ]
    }
   ],
   "source": [
    "rfe = RFE(estimator=DecisionTreeClassifier(max_depth=8),n_features_to_select=15)#xgb\n",
    "#rfe = RFE(estimator=DecisionTreeClassifier(max_depth=6),n_features_to_select=15)#rf\n",
    "\n",
    "preprocessor_2=ColumnTransformer(transformers=[(\"imputer\",SimpleImputer(strategy=\"median\"),numerical_ix)],remainder='passthrough')\n",
    "\n",
    "#under = RandomUnderSampler(sampling_strategy=0.5,random_state=40)#xgb default\n",
    "#under = RandomUnderSampler(sampling_strategy=0.728126631947327,random_state=40)#rf without rfe\n",
    "\n",
    "#under = RandomUnderSampler(sampling_strategy=0.5839989677305552,random_state=40)#rf with rfe\n",
    "under = RandomUnderSampler(sampling_strategy=0.8,random_state=40)#xgb\n",
    "\n",
    "#model = RandomForestClassifier(bootstrap=True, max_depth=10,max_features='sqrt',n_estimators=450,min_samples_leaf=3,\n",
    "    #                           min_samples_split=2,random_state=42) #with rfe\n",
    "\n",
    "#model = RandomForestClassifier(bootstrap=True, max_depth=12,max_features='auto',n_estimators=150,min_samples_leaf=1,\n",
    "#                              min_samples_split=2,random_state=42) #without rfe\n",
    "\n",
    "#model = RandomForestClassifier() #default\n",
    "\n",
    "#model= xgb.XGBClassifier(use_label_encoder=False,n_jobs = 1,objective = 'binary:logistic',eval_metric = 'auc',silent=1,tree_method='approx')#defeault hyperparameters\n",
    "#model= xgb.XGBClassifier(use_label_encoder=False,n_jobs = 1,objective = 'binary:logistic',eval_metric = 'auc',\n",
    "#colsample_bylevel=1,colsample_bytree=0.7,gamma=0.0,learning_rate=0.05,max_depth=6,min_child_weight=1,\n",
    "  #      n_estimators=300,subsample=1, silent=1, tree_method='approx') #Without rfe\n",
    "\n",
    "model= xgb.XGBClassifier(use_label_encoder=False,n_jobs = 1,objective = 'binary:logistic',eval_metric = 'auc',\n",
    "colsample_bylevel=0.01,colsample_bytree=0.7,gamma=0.4,learning_rate=0.05,max_depth=3,min_child_weight=1,\n",
    "        n_estimators=100,subsample=0.7173804504207143, silent=1, tree_method='approx') #With rfe\n",
    "    \n",
    "pipeline_model = Pipeline(steps=[ (\"preprocessor_2\", preprocessor_2),('rfe',rfe),('under',under),('model',model)])\n",
    "#pipeline_model = Pipeline(steps=[ (\"preprocessor_2\", preprocessor_2),('under',under),('model',model)])\n",
    "\n",
    "pipeline_model.fit(X_train, y_train)\n",
    "\n",
    "y_pred_train=pipeline_model.predict(X_train)\n",
    "\n",
    "conf_pred_train=confusion_matrix(y_train,y_pred_train)\n",
    "print(conf_pred_train)\n",
    "\n",
    "score_train=f1_score(y_train,y_pred_train)\n",
    "print(\" F1 on training set {}\".format(score_train))\n",
    "y_pred_test = pipeline_model.predict(X_test)\n",
    "\n",
    "conf_pred_test = confusion_matrix(y_test, y_pred_test) \n",
    "print(conf_pred_test)\n",
    "score=f1_score(y_test,y_pred_test)\n",
    "print(\" F1 on test set {}\".format(score))\n",
    "print(classification_report(y_test, y_pred_test))"
   ]
  },
  {
   "cell_type": "code",
   "execution_count": 23,
   "id": "21ea2132",
   "metadata": {},
   "outputs": [
    {
     "data": {
      "text/plain": [
       "(0.7772511848341233, 0.8752079866888519)"
      ]
     },
     "execution_count": 23,
     "metadata": {},
     "output_type": "execute_result"
    }
   ],
   "source": [
    "recall_sensitivity = recall_score(y_test, y_pred_test, pos_label=1)\n",
    "\n",
    "recall_specificity = recall_score(y_test, y_pred_test, pos_label=0)\n",
    "\n",
    "recall_sensitivity, recall_specificity "
   ]
  },
  {
   "cell_type": "code",
   "execution_count": 5,
   "id": "b4e7aca6",
   "metadata": {
    "collapsed": true
   },
   "outputs": [
    {
     "name": "stdout",
     "output_type": "stream",
     "text": [
      "[19:30:01] WARNING: ..\\src\\learner.cc:576: \n",
      "Parameters: { \"silent\" } might not be used.\n",
      "\n",
      "  This could be a false alarm, with some parameters getting used by language bindings but\n",
      "  then being mistakenly passed down to XGBoost core, or some parameter actually being used\n",
      "  but getting flagged wrongly here. Please open an issue if you find any such cases.\n",
      "\n",
      "\n"
     ]
    },
    {
     "data": {
      "text/plain": [
       "Pipeline(steps=[('preprocessor_2',\n",
       "                 ColumnTransformer(remainder='passthrough',\n",
       "                                   transformers=[('imputer',\n",
       "                                                  SimpleImputer(strategy='median'),\n",
       "                                                  ['ventilator', 'albumin',\n",
       "                                                   'diastolicBP', 'systolicBP',\n",
       "                                                   'cr', 'egfr', 'eosinophil',\n",
       "                                                   'hgb', 'inr', 'lymphocyte',\n",
       "                                                   'neutrophil', 'NLratio',\n",
       "                                                   'platelet', 'protein',\n",
       "                                                   'pulse', 'pulseOx', 'rr',\n",
       "                                                   'temperature', 'wbc', 'alt',\n",
       "                                                   'ast', 'bun', 'calcium',\n",
       "                                                   'chloride', 'crp',\n",
       "                                                   'interleukin6', 'mcv',\n",
       "                                                   'monocyte', 'mpv', 'rdw', ...])])),\n",
       "                ('rfe_rf',\n",
       "                 RFE(estimator=DecisionTreeClassifier(max_depth=6),\n",
       "                     n_features_to_select=15)),\n",
       "                ('under_rf',\n",
       "                 RandomUnderSampler(random_state=40,\n",
       "                                    sampling_strategy=0.5839989677305552)),\n",
       "                ('model_rf',\n",
       "                 RandomForestClassifier(max_depth=10, max_features='sqrt',\n",
       "                                        min_samples_leaf=3, n_estimators=450,\n",
       "                                        random_state=42))])"
      ]
     },
     "execution_count": 5,
     "metadata": {},
     "output_type": "execute_result"
    }
   ],
   "source": [
    "preprocessor_2 = ColumnTransformer(transformers =[(\"imputer\", SimpleImputer(strategy=\"median\"), numerical_ix)],remainder='passthrough')\n",
    "under_xgb = RandomUnderSampler(sampling_strategy=0.8,random_state=40)\n",
    "under_rf = RandomUnderSampler(sampling_strategy=0.5839989677305552,random_state=40)\n",
    "\n",
    "rfe_xgb = RFE(estimator=DecisionTreeClassifier(max_depth=8),n_features_to_select=15)#xgb\n",
    "rfe_rf = RFE(estimator=DecisionTreeClassifier(max_depth=6),n_features_to_select=15)#rf\n",
    "\n",
    "model_xgb= xgb.XGBClassifier(use_label_encoder=False,n_jobs = 1,objective = 'binary:logistic',eval_metric = 'auc',\n",
    "colsample_bylevel=0.01,colsample_bytree=0.7,gamma=0.4,learning_rate=0.05,max_depth=3,min_child_weight=1,\n",
    "        n_estimators=100,subsample=0.7173804504207143, silent=1, tree_method='approx') \n",
    "\n",
    "\n",
    "model_rf = RandomForestClassifier(bootstrap=True, max_depth=10,max_features='sqrt',n_estimators=450,min_samples_leaf=3,\n",
    "                               min_samples_split=2,random_state=42) #with rfe\n",
    "\n",
    "pipeline_model_xgb = Pipeline(steps=[ (\"preprocessor_2\", preprocessor_2),('rfe_xgb',rfe_xgb),('under_xgb',under_xgb),('model_xgb',model_xgb)])\n",
    "pipeline_model_rf = Pipeline(steps=[ (\"preprocessor_2\", preprocessor_2),('rfe_rf',rfe_rf),('under_rf',under_rf),('model_rf',model_rf)])\n",
    "\n"
   ]
  },
  {
   "cell_type": "code",
   "execution_count": 6,
   "id": "68d0bc17",
   "metadata": {},
   "outputs": [
    {
     "name": "stdout",
     "output_type": "stream",
     "text": [
      "[19:30:11] WARNING: ..\\src\\learner.cc:576: \n",
      "Parameters: { \"silent\" } might not be used.\n",
      "\n",
      "  This could be a false alarm, with some parameters getting used by language bindings but\n",
      "  then being mistakenly passed down to XGBoost core, or some parameter actually being used\n",
      "  but getting flagged wrongly here. Please open an issue if you find any such cases.\n",
      "\n",
      "\n"
     ]
    }
   ],
   "source": [
    "\n",
    "model_rf = pipeline_model_xgb.fit(X_train, y_train)\n",
    "\n",
    "probs_rf = model_rf.predict_proba(X_test)[:, 1]\n",
    "\n",
    "model_xg = pipeline_model_rf.fit(X_train, y_train)\n",
    "\n",
    "probs_xg = model_xg.predict_proba(X_test)[:, 1]"
   ]
  },
  {
   "cell_type": "code",
   "execution_count": 14,
   "id": "febf25ce",
   "metadata": {},
   "outputs": [
    {
     "data": {
      "image/png": "[encoded data removed]",
      "text/plain": [
       "<Figure size 504x288 with 1 Axes>"
      ]
     },
     "metadata": {
      "needs_background": "light"
     },
     "output_type": "display_data"
    }
   ],
   "source": [
    "from sklearn.metrics import roc_auc_score, roc_curve\n",
    "\n",
    "\n",
    "auc_rf = roc_auc_score(y_test, probs_rf)\n",
    "fpr_rf, tpr_rf, thresholds_rf = roc_curve(y_test, probs_rf)\n",
    "\n",
    "auc_xg = roc_auc_score(y_test, probs_xg)\n",
    "fpr_xg, tpr_xg, thresholds_xg = roc_curve(y_test, probs_xg)\n",
    "\n",
    "plt.figure(figsize=(7, 4))\n",
    "\n",
    "plt.plot(fpr_rf, tpr_rf, label=f'Random Forest  (AUC = {auc_rf:.3f})')\n",
    "plt.plot(fpr_xg, tpr_xg, label=f'eXtreme Gradient Boosting (AUC = {auc_xg:.3f})')\n",
    "plt.plot([0, 1], [0, 1], color='blue', linestyle='--', label='Baseline')\n",
    "plt.title('ROC Curve', size=20)\n",
    "plt.xlabel('False Positive Rate', size=14)\n",
    "plt.ylabel('True Positive Rate', size=14)\n",
    "plt.legend();"
   ]
  },
  {
   "cell_type": "code",
   "execution_count": 6,
   "id": "1ac634c9",
   "metadata": {},
   "outputs": [
    {
     "name": "stdout",
     "output_type": "stream",
     "text": [
      "Num Features: 15\n",
      "Selected Features: [ True False  True  True False  True  True  True False False False False\n",
      " False False  True False False False  True False  True False False False\n",
      "  True False False False False False False False False  True  True  True\n",
      " False False False False  True  True False]\n",
      "Feature Ranking: [ 1 15  1  1  2  1  1  1 16 17  6 14 24 22  1 28  5  8  1  9  1  4 26 20\n",
      "  1  3 11 19 21 23 25 27  7  1  1  1 18 12 10 13  1  1 29]\n",
      "Index(['age', 'race', 'ventilator', 'diastolicBP', 'systolicBP', 'cr',\n",
      "       'NLratio', 'pulseOx', 'temperature', 'bun', 'troponin', 'ptt', 'bmi',\n",
      "       'creatine_kinase', 'potassium'],\n",
      "      dtype='object')\n"
     ]
    }
   ],
   "source": [
    "imputer = SimpleImputer(strategy=\"median\")\n",
    "X=imputer.fit_transform(X_train)\n",
    "X_train = pd.DataFrame(X, columns=X_train.columns)\n",
    "\n",
    "#rfe = RFE(estimator=DecisionTreeClassifier(max_depth=8),n_features_to_select=15)#xgb\n",
    "rfe = RFE(estimator=DecisionTreeClassifier(max_depth=6),n_features_to_select=15)#rf\n",
    "\n",
    "fit = rfe.fit(X_train, y_train)\n",
    "\n",
    "print(\"Num Features: %d\" % fit.n_features_)\n",
    "print(\"Selected Features: %s\" % fit.support_)\n",
    "print(\"Feature Ranking: %s\" % fit.ranking_)\n",
    "\n",
    "print(X_train.columns[rfe.support_])"
   ]
  },
  {
   "cell_type": "code",
   "execution_count": null,
   "id": "d5a93664",
   "metadata": {},
   "outputs": [],
   "source": []
  }
 ],
 "metadata": {
  "kernelspec": {
   "display_name": "Python 3 (ipykernel)",
   "language": "python",
   "name": "python3"
  },
  "language_info": {
   "codemirror_mode": {
    "name": "ipython",
    "version": 3
   },
   "file_extension": ".py",
   "mimetype": "text/x-python",
   "name": "python",
   "nbconvert_exporter": "python",
   "pygments_lexer": "ipython3",
   "version": "3.8.12"
  }
 },
 "nbformat": 4,
 "nbformat_minor": 5
}
